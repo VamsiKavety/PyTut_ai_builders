{
 "cells": [
  {
   "cell_type": "code",
   "execution_count": null,
   "id": "e80cfc280063555c",
   "metadata": {},
   "outputs": [],
   "source": []
  },
  {
   "cell_type": "markdown",
   "id": "faab859c-8daf-4385-8b59-92a05d9663c7",
   "metadata": {},
   "source": [
    "# Tuples in Python\n",
    "\n",
    "Tuples are one of Python's built-in data structures that allow you to store multiple items in a single variable. They're similar to lists but with one key difference: tuples are immutable, meaning once created, you cannot modify their content.\n",
    "\n",
    "## Key Characteristics of Tuples\n",
    "\n",
    "1. **Immutable**: Cannot be changed after creation\n",
    "2. **Ordered**: Items have a defined order\n",
    "3. **Indexed**: Items can be accessed by position\n",
    "4. **Allow duplicates**: Can contain duplicate values\n",
    "5. **Can contain different data types**: Integers, strings, floats, etc.\n",
    "\n",
    "## Creating and Using Tuples\n"
   ]
  },
  {
   "cell_type": "code",
   "execution_count": 2,
   "id": "85d6ed27-7f6b-40ea-a981-a185c1fcd646",
   "metadata": {},
   "outputs": [],
   "source": [
    "# Creating tuples\n",
    "empty_tuple = ()\n",
    "single_item_tuple = (1,)  # Note the comma is required for single-item tuples\n",
    "mixed_tuple = (1, \"hello\", 3.14, True)\n",
    "nested_tuple = (1, 2, (3, 4), 5)\n",
    "tuple_from_list = tuple([1, 2, 3])"
   ]
  },
  {
   "cell_type": "code",
   "execution_count": null,
   "id": "326b0b4e-83df-47d6-ab05-b55e0eca338b",
   "metadata": {},
   "outputs": [],
   "source": [
    "# Accessing tuple elements\n",
    "my_tuple = (10, 20, 30, 40, 50)\n",
    "print(my_tuple[0])       # Output: 10\n",
    "print(my_tuple[-1])      # Output: 50\n",
    "print(my_tuple[1:3])     # Output: (20, 30)"
   ]
  },
  {
   "cell_type": "code",
   "execution_count": 4,
   "id": "3dfeaaeb-57f8-46bc-a9fd-d678a9b6b5a8",
   "metadata": {},
   "outputs": [
    {
     "name": "stdout",
     "output_type": "stream",
     "text": [
      "1 2 3\n"
     ]
    }
   ],
   "source": [
    "# Tuple unpacking\n",
    "x, y, z = (1, 2, 3)\n",
    "print(x, y, z)           # Output: 1 2 3"
   ]
  },
  {
   "cell_type": "code",
   "execution_count": 5,
   "id": "2dbdaef4-cabe-40fc-94f9-e128c11d055b",
   "metadata": {},
   "outputs": [
    {
     "name": "stdout",
     "output_type": "stream",
     "text": [
      "3\n",
      "3\n"
     ]
    }
   ],
   "source": [
    "# Tuple methods\n",
    "coordinates = (5, 3, 5, 9, 2, 5)\n",
    "print(coordinates.count(5))  # Output: ? (counts occurrences of 5)\n",
    "print(coordinates.index(9))  # Output: ? (returns first index of 9)"
   ]
  },
  {
   "cell_type": "markdown",
   "id": "aeb45c90-fd05-4f33-8902-b3fd5905acb7",
   "metadata": {},
   "source": [
    "The selected code demonstrates two built-in methods available for Python tuples:\n",
    "\n",
    "1. `coordinates.count(5)` - This method counts how many times the value 5 appears in the tuple. In this case, the value 5 appears 3 times in the tuple `(5, 3, 5, 9, 2, 5)`, so it returns 3.\n",
    "\n",
    "2. `coordinates.index(9)` - This method finds the first occurrence of the value 9 in the tuple and returns its index position. Since 9 is at the fourth position (index 3, as Python uses zero-based indexing), it returns 3.\n",
    "\n",
    "These are the only two methods available for tuples, reflecting their immutable nature compared to lists which have many more methods."
   ]
  },
  {
   "cell_type": "code",
   "execution_count": 10,
   "id": "8607d969-50c0-4178-b2f6-b56f4b9311bc",
   "metadata": {},
   "outputs": [
    {
     "name": "stdout",
     "output_type": "stream",
     "text": [
      "(1, 'hello', 3.14, True)\n",
      "1\n",
      "hello\n",
      "3.14\n",
      "True\n"
     ]
    }
   ],
   "source": [
    "# Tuples in loops\n",
    "print(mixed_tuple)\n",
    "\n",
    "for item in mixed_tuple:\n",
    "    print(item)"
   ]
  },
  {
   "cell_type": "markdown",
   "id": "49635b0c-2534-4b74-9fbe-1bf933b34ea3",
   "metadata": {},
   "source": [
    "## Tuples in loops\n",
    "\n",
    "The selected code demonstrates how to iterate through a tuple using a for loop:\n",
    "\n",
    "1. `for item in mixed_tuple:` - This line starts a for loop that will iterate through each element in a tuple called `mixed_tuple`. The variable `item` will hold the current element in each iteration.\n",
    "\n",
    "2. `print(item)` - Inside the loop, this line prints the current element to the console.\n",
    "\n",
    "This code shows one of the common ways to access tuple elements - by iterating through the tuple with a for loop, which allows you to process each element one by one."
   ]
  },
  {
   "cell_type": "code",
   "execution_count": 11,
   "id": "7bd7bff8-0d21-41c2-a413-44363c05af32",
   "metadata": {},
   "outputs": [
    {
     "name": "stdout",
     "output_type": "stream",
     "text": [
      "True\n"
     ]
    }
   ],
   "source": [
    "# Checking if an item exists\n",
    "print(3.14 in mixed_tuple)  # Output: True\n"
   ]
  },
  {
   "cell_type": "code",
   "execution_count": 12,
   "id": "9854c867-022b-4979-9d9b-e8c317bbd3ad",
   "metadata": {},
   "outputs": [
    {
     "name": "stdout",
     "output_type": "stream",
     "text": [
      "(1, 2, 3, 4, 5, 6)\n"
     ]
    }
   ],
   "source": [
    "# Tuple concatenation\n",
    "tuple1 = (1, 2, 3)\n",
    "tuple2 = (4, 5, 6)\n",
    "combined = tuple1 + tuple2\n",
    "print(combined)          # Output: (1, 2, 3, 4, 5, 6)\n"
   ]
  },
  {
   "cell_type": "code",
   "execution_count": 13,
   "id": "e6f89f24-8ff1-4bf6-8132-fa18923b395a",
   "metadata": {},
   "outputs": [
    {
     "name": "stdout",
     "output_type": "stream",
     "text": [
      "(1, 2, 3, 1, 2, 3, 1, 2, 3)\n"
     ]
    }
   ],
   "source": [
    "# Tuple repetition\n",
    "repeated = tuple1 * 3\n",
    "print(repeated)          # Output: (1, 2, 3, 1, 2, 3, 1, 2, 3)"
   ]
  },
  {
   "cell_type": "code",
   "execution_count": 15,
   "id": "1fa78896-5f44-44e0-8101-401561d54609",
   "metadata": {},
   "outputs": [
    {
     "name": "stdout",
     "output_type": "stream",
     "text": [
      "Tokyo\n"
     ]
    }
   ],
   "source": [
    "# Using tuples as dictionary keys (unlike lists)\n",
    "locations = {\n",
    "    (35.6895, 139.6917): \"Tokyo\",\n",
    "    (40.7128, -74.0060): \"New York\"\n",
    "}\n",
    "print(locations[(35.6895, 139.6917)])  # Output: ??"
   ]
  },
  {
   "cell_type": "markdown",
   "id": "d09d5775-f01a-497f-8785-5314747e4b93",
   "metadata": {},
   "source": [
    "# Using tuples as dictionary keys (unlike lists)\n",
    "The selected code `Tokyo` is the output that would be printed when the active cell code is executed. Specifically, it's the result of the line `print(locations[(35.6895, 139.6917)])`. This output appears because the dictionary lookup is retrieving the value associated with the tuple key `(35.6895, 139.6917)`, which is the string \"Tokyo\"."
   ]
  },
  {
   "cell_type": "markdown",
   "id": "4e75b7a8-730f-4039-8563-9857216b19d2",
   "metadata": {},
   "source": [
    "\n",
    "## When to Use Tuples\n",
    "\n",
    "- When you need an immutable sequence (data that shouldn't change)\n",
    "- For heterogeneous data (different types of data)\n",
    "- As dictionary keys (lists can't be used as keys)\n",
    "- For returning multiple values from functions\n",
    "- When you want to ensure data integrity\n",
    "\n",
    "## Related Python Packages\n",
    "\n",
    "If you're working with data structures and tuples, these packages might be useful:\n",
    "\n",
    "- **collections**: Provides specialized container datatypes like namedtuple\n",
    "- **pandas**: For data analysis with structured data\n",
    "- **numpy**: For scientific computing with arrays that can contain tuple elements\n",
    "- **itertools**: For efficient looping and combination functions\n",
    "\n",
    "Tuples are simple yet powerful data structures that provide data integrity through immutability while maintaining the flexibility to store different types of data."
   ]
  },
  {
   "cell_type": "code",
   "execution_count": null,
   "id": "e06f8da2-bfee-4df6-9593-86a827541570",
   "metadata": {},
   "outputs": [],
   "source": []
  }
 ],
 "metadata": {
  "kernelspec": {
   "display_name": "Python 3 (ipykernel)",
   "language": "python",
   "name": "python3"
  },
  "language_info": {
   "codemirror_mode": {
    "name": "ipython",
    "version": 3
   },
   "file_extension": ".py",
   "mimetype": "text/x-python",
   "name": "python",
   "nbconvert_exporter": "python",
   "pygments_lexer": "ipython3",
   "version": "3.12.7"
  }
 },
 "nbformat": 4,
 "nbformat_minor": 5
}
