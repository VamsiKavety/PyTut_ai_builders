{
 "cells": [
  {
   "metadata": {},
   "cell_type": "markdown",
   "source": [
    "\n",
    "# Dictionary in Python\n",
    "\n",
    "A dictionary is a built-in Python data structure that stores key-value pairs. Dictionaries are mutable, unordered collections where values are accessed via keys rather than positions.\n",
    "\n",
    "## Creating Dictionaries\n"
   ],
   "id": "18f0d429d3497647"
  },
  {
   "metadata": {},
   "cell_type": "code",
   "outputs": [],
   "execution_count": null,
   "source": [
    "# Empty dictionary\n",
    "empty_dict = {}\n",
    "\n",
    "# Dictionary with initial values\n",
    "student = {\n",
    "    \"name\": \"John\",\n",
    "    \"age\": 21,\n",
    "    \"courses\": [\"Math\", \"Physics\", \"Computer Science\"],\n",
    "    \"active\": True,\n",
    "    \"grades\": {\"Math\": 90, \"Physics\": 85, \"Computer Science\": 95}\n",
    "}\n",
    "empty_dict\n",
    "student"
   ],
   "id": "5dd677b2904e044b"
  },
  {
   "metadata": {},
   "cell_type": "code",
   "outputs": [],
   "execution_count": null,
   "source": [
    "\n",
    "# Alternative creation using dict() constructor\n",
    "contact = dict(name=\"Alice\", email=\"alice@example.com\", phone=\"555-1234\", RollNr= 10)\n",
    "contact"
   ],
   "id": "d004e811a3a30c5c"
  },
  {
   "metadata": {},
   "cell_type": "code",
   "outputs": [],
   "execution_count": null,
   "source": [
    "# Creating from sequences\n",
    "keys = [\"a\", \"b\", \"c\"]\n",
    "values = [1, 2, 3]\n",
    "letter_to_number = dict(zip(keys, values))  # {'a': 1, 'b': 2, 'c': 3}\n",
    "\n",
    "letter_to_number\n"
   ],
   "id": "6941265a5b68ed6b"
  },
  {
   "metadata": {},
   "cell_type": "code",
   "outputs": [],
   "execution_count": null,
   "source": [
    "# Dictionary comprehension\n",
    " \n",
    "squares = {x: x**2 for x in range(6)}  # {0: 0, 1: 1, 2: 4, 3: 9, 4: 16, 5: 25}\n",
    "squares\n"
   ],
   "id": "32c903e577650b0c"
  },
  {
   "metadata": {},
   "cell_type": "code",
   "outputs": [],
   "execution_count": null,
   "source": [
    "\n",
    "Names= ['a', 'b', 'c', 'd', 'e', 'f']\n",
    "x=0\n",
    "RollNr = {Names: x+1 for x in range(6)}  # {0: 0, 1: 1, 2: 4, 3: 9, 4: 16, 5: 25}\n",
    "#RollNr\n",
    "\n"
   ],
   "id": "e413a5a82e2fc2e0"
  },
  {
   "metadata": {},
   "cell_type": "code",
   "outputs": [],
   "execution_count": null,
   "source": [
    "names = ['a', 'b', 'c', 'd', 'e', 'f']\n",
    "roll_numbers = {names[i]: i+1 for i in range(len(names))}  # Creates a dict mapping names to roll numbers\n",
    "roll_numbers\n"
   ],
   "id": "26c16573e78fbe5"
  },
  {
   "metadata": {},
   "cell_type": "code",
   "outputs": [],
   "execution_count": null,
   "source": [
    "students = ['Alice', 'Bob', 'Charlie', 'David']\n",
    "roll_numbers = {student: i + 1 for i, student in enumerate(students)}\n",
    "roll_numbers"
   ],
   "id": "19509cc63b8d0d3c"
  },
  {
   "metadata": {},
   "cell_type": "markdown",
   "source": "",
   "id": "46168bdd5502f7d5"
  },
  {
   "metadata": {},
   "cell_type": "code",
   "outputs": [],
   "execution_count": null,
   "source": "",
   "id": "1466bfc9ae14d47d"
  },
  {
   "metadata": {},
   "cell_type": "code",
   "outputs": [],
   "execution_count": null,
   "source": "",
   "id": "2ccbfd0c43bd756f"
  },
  {
   "metadata": {},
   "cell_type": "markdown",
   "source": [
    "\n",
    "## Practical Examples\n"
   ],
   "id": "bd43b4d364135d1f"
  },
  {
   "metadata": {},
   "cell_type": "code",
   "outputs": [],
   "execution_count": null,
   "source": [
    "# Example 1: Counting word frequency\n",
    "text = \"apple banana apple strawberry banana apple\"\n",
    "word_count = {}\n",
    "\n",
    "for word in text.split():\n",
    "    if word in word_count:\n",
    "        word_count[word] += 1\n",
    "    else:\n",
    "        word_count[word] = 1\n",
    "        \n",
    "print(word_count)  # {'apple': 3, 'banana': 2, 'strawberry': 1}"
   ],
   "id": "d185aa6f667b9a71"
  },
  {
   "metadata": {},
   "cell_type": "code",
   "outputs": [],
   "execution_count": null,
   "source": [
    "# More elegant way using defaultdict\n",
    "from collections import defaultdict\n",
    "word_count = defaultdict(int)\n",
    "for word in text.split():\n",
    "    word_count[word] += 1"
   ],
   "id": "b70eb10f277c9034"
  },
  {
   "metadata": {},
   "cell_type": "code",
   "outputs": [],
   "execution_count": null,
   "source": [
    "\n",
    "# Example 2: Grouping data\n",
    "students = [\n",
    "    {\"name\": \"Alice\", \"grade\": \"A\"},\n",
    "    {\"name\": \"Bob\", \"grade\": \"B\"},\n",
    "    {\"name\": \"Charlie\", \"grade\": \"A\"},\n",
    "    {\"name\": \"David\", \"grade\": \"C\"}\n",
    "]\n",
    "\n",
    "by_grade = {}\n",
    "for student in students:\n",
    "    grade = student[\"grade\"]\n",
    "    if grade not in by_grade:\n",
    "        by_grade[grade] = []\n",
    "    by_grade[grade].append(student[\"name\"])\n",
    "    \n",
    "print(by_grade)  # {'A': ['Alice', 'Charlie'], 'B': ['Bob'], 'C': ['David']}\n"
   ],
   "id": "3bfa575164ac3752"
  },
  {
   "metadata": {},
   "cell_type": "code",
   "outputs": [],
   "execution_count": null,
   "source": [
    "\n",
    "# Example 3: Nested dictionaries\n",
    "university = {\n",
    "    \"Computer Science\": {\n",
    "        \"courses\": [\"Programming\", \"Data Structures\", \"Algorithms\"],\n",
    "        \"professors\": [\"Dr. Smith\", \"Dr. Johnson\"]\n",
    "    },\n",
    "    \"Mathematics\": {\n",
    "        \"courses\": [\"Calculus\", \"Linear Algebra\", \"Statistics\"],\n",
    "        \"professors\": [\"Dr. Brown\", \"Dr. Davis\"]\n",
    "    }\n",
    "}\n",
    "\n",
    "print(university[\"Computer Science\"][\"courses\"][1])  # Data Structures"
   ],
   "id": "7a9f71dfc89f57c2"
  },
  {
   "metadata": {},
   "cell_type": "markdown",
   "source": [
    "\n",
    "## Useful Python Packages for Advanced Dictionary Operations\n",
    "\n",
    "If you're working extensively with dictionaries, consider these packages:\n",
    "\n",
    "1. **collections** - Provides specialized container datatypes like defaultdict, Counter, and OrderedDict\n",
    "2. **pandas** - For more complex data manipulation when dictionaries become unwieldy\n",
    "3. **pprint** - For pretty-printing complex nested dictionaries\n",
    "4. **json** - For serializing and deserializing dictionaries to/from JSON format\n",
    "\n",
    "Dictionaries are fundamental to Python programming and are used extensively in data processing, configuration management, and many other applications."
   ],
   "id": "7eb787e1c43cff9b"
  },
  {
   "metadata": {},
   "cell_type": "markdown",
   "source": [
    "| No. | Interview Question (Python Dictionary)                                 | Answer                                                                    |\n",
    "| --- | ---------------------------------------------------------------------- | ------------------------------------------------------------------------- |\n",
    "| 1   | What is a dictionary in Python?                                        | A dictionary is an unordered, mutable collection of key-value pairs.      |\n",
    "| 2   | How do you create a dictionary?                                        | Using curly braces: `my_dict = {'name': 'Alice', 'age': 25}`              |\n",
    "| 3   | How do you access a value in a dictionary?                             | Use the key: `my_dict['name']`                                            |\n",
    "| 4   | How do you add a new key-value pair to a dictionary?                   | `my_dict['new_key'] = value`                                              |\n",
    "| 5   | What happens if you try to access a key that doesn't exist?            | It raises a KeyError unless you use `get()`                               |\n",
    "| 6   | How do you get a value without raising an error if the key is missing? | Use `get()`: `my_dict.get('key', default_value)`                          |\n",
    "| 7   | How do you remove a key from a dictionary?                             | Use `del my_dict['key']` or `my_dict.pop('key')`                          |\n",
    "| 8   | How do you check if a key exists in a dictionary?                      | `'key' in my_dict`                                                        |\n",
    "| 9   | What does the `keys()` method return?                                  | Returns a view object of all keys                                         |\n",
    "| 10  | What does the `values()` method return?                                | Returns a view object of all values                                       |\n",
    "| 11  | What does the `items()` method return?                                 | Returns a view object of (key, value) pairs                               |\n",
    "| 12  | How do you iterate over a dictionary?                                  | Use a loop: `for key, value in my_dict.items():`                          |\n",
    "| 13  | How do you merge two dictionaries?                                     | Use `update()`: `dict1.update(dict2)`                                     |\n",
    "| 14  | How do you copy a dictionary?                                          | Use `copy()`: `new_dict = my_dict.copy()`                                 |\n",
    "| 15  | How do you clear all items from a dictionary?                          | Use `clear()`: `my_dict.clear()`                                          |\n",
    "| 16  | Can dictionary keys be mutable types?                                  | No, keys must be immutable (e.g., strings, numbers, tuples)               |\n",
    "| 17  | Can dictionary values be mutable?                                      | Yes, values can be any data type, including mutable types                 |\n",
    "| 18  | What is a nested dictionary?                                           | A dictionary inside another dictionary                                    |\n",
    "| 19  | How do you update a value in a nested dictionary?                      | Use double indexing: `dict['outer']['inner'] = value`                     |\n",
    "| 20  | How do you get all keys as a list?                                     | Use `list(my_dict.keys())`                                                |\n",
    "| 21  | What happens if two keys in a dictionary are the same?                 | The last value overwrites the previous one                                |\n",
    "| 22  | How do you invert a dictionary (swap keys and values)?                 | Use dict comprehension: `{v: k for k, v in my_dict.items()}`              |\n",
    "| 23  | How do you sort a dictionary by key?                                   | Use `dict(sorted(my_dict.items()))`                                       |\n",
    "| 24  | How do you sort a dictionary by value?                                 | Use `dict(sorted(my_dict.items(), key=lambda x: x[1]))`                   |\n",
    "| 25  | What is dictionary comprehension? Give an example.                     | A concise way to create dicts: `{x: x**2 for x in range(5)}`              |\n",
    "| 26  | Can dictionaries be used as sets?                                      | No, but dict keys behave like a set (unique, hashable)                    |\n",
    "| 27  | What is the difference between `pop()` and `popitem()`?                | `pop(key)` removes key-value by key; `popitem()` removes last item (LIFO) |\n",
    "| 28  | What is the default return of `get()` when key is missing?             | `None` unless a default value is provided                                 |\n",
    "| 29  | How do you remove all items from a dictionary?                         | Use `my_dict.clear()`                                                     |\n",
    "| 30  | What is the time complexity of accessing an item in a dictionary?      | Average case is O(1) due to hash table implementation                     |\n"
   ],
   "id": "12ae4a08ffb940d3"
  },
  {
   "metadata": {},
   "cell_type": "code",
   "outputs": [],
   "execution_count": null,
   "source": "",
   "id": "243bb879a7f9d58b"
  }
 ],
 "metadata": {},
 "nbformat": 4,
 "nbformat_minor": 5
}
