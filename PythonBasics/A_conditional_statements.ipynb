{
 "cells": [
  {
   "cell_type": "markdown",
   "id": "26ee20c0-b011-4ecd-8745-98920443efdb",
   "metadata": {},
   "source": [
    "# Python Conditional Statements\n",
    "\n",
    "Conditional statements allow your program to make decisions based on certain conditions. In Python, these are implemented using `if`, `elif` (else if), and `else` statements.\n",
    "\n",
    "## Basic Syntax\n"
   ]
  },
  {
   "cell_type": "code",
   "execution_count": 3,
   "id": "1734e5d0-eeff-4495-9f67-ee5a9e416661",
   "metadata": {},
   "outputs": [
    {
     "name": "stdout",
     "output_type": "stream",
     "text": [
      "x is greater than 5\n"
     ]
    }
   ],
   "source": [
    "# Basic if statement\n",
    "x = 10\n",
    "if x > 5:\n",
    "    print(\"x is greater than 5\")\n",
    "    "
   ]
  },
  {
   "cell_type": "code",
   "execution_count": 4,
   "id": "48753e77-f4c9-4249-9df3-290d2cec9470",
   "metadata": {},
   "outputs": [
    {
     "name": "stdout",
     "output_type": "stream",
     "text": [
      "y is not greater than 5\n"
     ]
    }
   ],
   "source": [
    "\n",
    "# if-else statement\n",
    "y = 3\n",
    "if y > 5:\n",
    "    print(\"y is greater than 5\")\n",
    "else:\n",
    "    print(\"y is not greater than 5\")"
   ]
  },
  {
   "cell_type": "code",
   "execution_count": 5,
   "id": "0588c1ea-c6a3-4179-b71a-236e78c296ad",
   "metadata": {},
   "outputs": [
    {
     "name": "stdout",
     "output_type": "stream",
     "text": [
      "z is equal to 5\n"
     ]
    }
   ],
   "source": [
    "# if-elif-else statement (multiple conditions)\n",
    "z = 5\n",
    "if z > 10:\n",
    "    print(\"z is greater than 10\")\n",
    "elif z == 5:\n",
    "    print(\"z is equal to 5\")\n",
    "else:\n",
    "    print(\"z is less than 5\")"
   ]
  },
  {
   "cell_type": "code",
   "execution_count": 11,
   "id": "e8ca705f-6b1a-4057-a4e7-191777ae9c54",
   "metadata": {},
   "outputs": [
    {
     "name": "stdout",
     "output_type": "stream",
     "text": [
      "a is greater than 10\n",
      "a is between 10 and 20\n",
      "Nested if-statement exited\n"
     ]
    }
   ],
   "source": [
    "# Nested if statements\n",
    "a = 15\n",
    "if a > 10:\n",
    "    print(\"a is greater than 10\")\n",
    "    if a > 20:\n",
    "        print(\"a is also greater than 20\")\n",
    "        print(\"This is Nested if-statement\")\n",
    "    else:\n",
    "        print(\"a is between 10 and 20\")\n",
    "print(\"Nested if-statement exited\")\n"
   ]
  },
  {
   "cell_type": "code",
   "execution_count": 12,
   "id": "c783801e-b45c-4603-88c5-7395eba7e846",
   "metadata": {},
   "outputs": [
    {
     "name": "stdout",
     "output_type": "stream",
     "text": [
      "You can drive\n"
     ]
    }
   ],
   "source": [
    "# Using logical operators\n",
    "age = 25\n",
    "has_license = True\n",
    "if age >= 18 and has_license:\n",
    "    print(\"You can drive\")\n",
    "else:\n",
    "    print(\"You cannot drive\")"
   ]
  },
  {
   "cell_type": "code",
   "execution_count": 13,
   "id": "33322b7f-d563-4794-9341-a5be12278554",
   "metadata": {},
   "outputs": [
    {
     "name": "stdout",
     "output_type": "stream",
     "text": [
      "Yes, banana is in the fruits list\n"
     ]
    }
   ],
   "source": [
    "\n",
    "# Using 'in' operator\n",
    "fruits = [\"apple\", \"banana\", \"cherry\"]\n",
    "if \"banana\" in fruits:\n",
    "    print(\"Yes, banana is in the fruits list\")"
   ]
  },
  {
   "cell_type": "code",
   "execution_count": null,
   "id": "f2db34ea-3c21-447e-9398-7f4fe66f8dc5",
   "metadata": {},
   "outputs": [],
   "source": [
    "# Ternary operator (one-line conditional)\n",
    "b = 7\n",
    "result = \"Greater than 5\" if b > 5 else \"Less than or equal to 5\"\n",
    "print(result)"
   ]
  },
  {
   "cell_type": "markdown",
   "id": "52106b25-b835-4421-8bf2-553a4ee90729",
   "metadata": {},
   "source": [
    "\n",
    "## Recommended Python Packages for Advanced Conditional Logic\n",
    "\n",
    "If you're working with more complex conditional logic, these packages might be helpful:\n",
    "\n",
    "1. **NumPy** - For conditional operations on arrays\n",
    "2. **Pandas** - For conditional data manipulation in DataFrames\n",
    "3. **SymPy** - For symbolic mathematics and logical expressions\n",
    "4. **PyTorch** or **TensorFlow** - For conditional operations in neural networks\n",
    "\n",
    "Remember that Python's conditional statements are indentation-sensitive, so proper spacing is crucial for your code to work correctly."
   ]
  },
  {
   "cell_type": "markdown",
   "id": "07a5e6d2-5c72-4f1d-9050-8f6f7b662825",
   "metadata": {},
   "source": [
    "## Examples of Conditions in NumPy\n",
    "\n",
    "Here are some common ways to create and use conditions in NumPy:"
   ]
  },
  {
   "cell_type": "code",
   "execution_count": 23,
   "id": "5b9072db-7a3c-4f05-a47f-7eba5567a6c0",
   "metadata": {},
   "outputs": [
    {
     "name": "stdout",
     "output_type": "stream",
     "text": [
      "Condition arr > 3: [ True  True  True  True  True]\n"
     ]
    }
   ],
   "source": [
    "import numpy as np\n",
    "\n",
    "# Basic comparison operations\n",
    "arr = np.array([1, 2, 3, 4, 5])\n",
    "condition = arr > 0\n",
    "print(\"Condition arr > 3:\", condition)"
   ]
  },
  {
   "cell_type": "code",
   "execution_count": 24,
   "id": "6539f2892d85e026",
   "metadata": {},
   "outputs": [
    {
     "name": "stdout",
     "output_type": "stream",
     "text": [
      "Original array: [1 2 3 4 5]\n",
      "Condition arr > 3: [False False False  True  True]\n",
      "Condition (arr > 2) AND (arr < 5): [False False  True  True False]\n",
      "Condition (arr < 2) OR (arr > 4): [ True False False False  True]\n",
      "Condition NOT (arr == 3): [ True  True False  True  True]\n",
      "np.where result (arr > 3 ? 'High' : 'Low'): ['Low' 'Low' 'Low' 'High' 'High']\n",
      "Elements where arr > 3: [4 5]\n",
      "Any elements > 4? True\n",
      "All elements > 0? True\n",
      "\n",
      "Array with NaN: [ 1.  2. nan  4.]\n",
      "Which elements are NaN? [False False  True False]\n",
      "Elements that are not NaN: [1. 2. 4.]\n",
      "\n",
      "Array with infinity: [ 1. inf  3.]\n",
      "Which elements are infinite? [False  True False]\n",
      "Elements that are finite: [1. 3.]\n"
     ]
    }
   ],
   "source": [
    "import numpy as np\n",
    "\n",
    "# Basic comparison operations\n",
    "arr = np.array([1, 2, 3, 4, 5])\n",
    "print(\"Original array:\", arr)\n",
    "\n",
    "condition = arr > 3\n",
    "print(\"Condition arr > 3:\", condition)\n",
    "\n",
    "# Multiple conditions with logical operators\n",
    "condition_and = (arr > 2) & (arr < 5)\n",
    "print(\"Condition (arr > 2) AND (arr < 5):\", condition_and)\n",
    "\n",
    "condition_or = (arr < 2) | (arr > 4)\n",
    "print(\"Condition (arr < 2) OR (arr > 4):\", condition_or)\n",
    "\n",
    "condition_not = ~(arr == 3)\n",
    "print(\"Condition NOT (arr == 3):\", condition_not)\n",
    "\n",
    "# Where function (conditional assignment)\n",
    "result = np.where(arr > 3, \"High\", \"Low\")\n",
    "print(\"np.where result (arr > 3 ? 'High' : 'Low'):\", result)\n",
    "\n",
    "# Select elements based on condition\n",
    "selected = arr[arr > 3]\n",
    "print(\"Elements where arr > 3:\", selected)\n",
    "\n",
    "# Check if any/all elements satisfy a condition\n",
    "has_any_greater_than_4 = np.any(arr > 4)\n",
    "print(\"Any elements > 4?\", has_any_greater_than_4)\n",
    "\n",
    "are_all_positive = np.all(arr > 0)\n",
    "print(\"All elements > 0?\", are_all_positive)\n",
    "\n",
    "# Testing for NaN values\n",
    "arr_with_nan = np.array([1, 2, np.nan, 4])\n",
    "print(\"\\nArray with NaN:\", arr_with_nan)\n",
    "is_nan = np.isnan(arr_with_nan)\n",
    "print(\"Which elements are NaN?\", is_nan)\n",
    "print(\"Elements that are not NaN:\", arr_with_nan[~np.isnan(arr_with_nan)])\n",
    "\n",
    "# Testing for infinity\n",
    "arr_with_inf = np.array([1, np.inf, 3])\n",
    "print(\"\\nArray with infinity:\", arr_with_inf)\n",
    "is_inf = np.isinf(arr_with_inf)\n",
    "print(\"Which elements are infinite?\", is_inf)\n",
    "print(\"Elements that are finite:\", arr_with_inf[~np.isinf(arr_with_inf)])"
   ]
  },
  {
   "cell_type": "code",
   "execution_count": null,
   "id": "864922ea-563a-4a8f-bba1-88c00d449a18",
   "metadata": {},
   "outputs": [],
   "source": []
  }
 ],
 "metadata": {
  "kernelspec": {
   "display_name": "Python 3 (ipykernel)",
   "language": "python",
   "name": "python3"
  },
  "language_info": {
   "codemirror_mode": {
    "name": "ipython",
    "version": 3
   },
   "file_extension": ".py",
   "mimetype": "text/x-python",
   "name": "python",
   "nbconvert_exporter": "python",
   "pygments_lexer": "ipython3",
   "version": "3.12.7"
  }
 },
 "nbformat": 4,
 "nbformat_minor": 5
}
