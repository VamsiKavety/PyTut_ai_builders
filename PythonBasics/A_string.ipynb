{
 "cells": [
  {
   "cell_type": "markdown",
   "id": "1c90c0f4-0a44-4c7d-9059-96d0de6c8ad9",
   "metadata": {},
   "source": [
    " \n",
    "# Python Strings Concept\n",
    "\n",
    "Python strings are sequences of characters enclosed in quotes. They are one of the most commonly used data types in Python programming. Let me explain the key concepts with examples.\n",
    "\n",
    "## Basic String Creation\n",
    "\n",
    "Strings in Python can be created using single quotes (`'`), double quotes (`\"`), or triple quotes (`'''` or `\"\"\"`) for multi-line strings.\n"
   ]
  },
  {
   "cell_type": "markdown",
   "id": "004921ae-6aa9-41be-b0ea-f59344d648b9",
   "metadata": {},
   "source": [
    "\n",
    "## Useful Python Packages for String Manipulation\n",
    "\n",
    "When working with strings in more advanced ways, these packages can be helpful:\n",
    "\n",
    "1. **re** - Regular expressions for pattern matching in strings\n",
    "2. **string** - Additional string constants and utilities\n",
    "3. **textwrap** - Functions for wrapping and filling text\n",
    "4. **difflib** - Helpers for computing string differences\n",
    "5. **unicodedata** - Unicode character database\n",
    "\n",
    "Strings are immutable in Python, which means once created, you cannot change their content. Any operation that appears to modify a string actually creates a new string.\n",
    "\n",
    "Understanding string manipulation is fundamental to Python programming as strings are used extensively in data processing, file handling, and user interactions."
   ]
  },
  {
   "cell_type": "code",
   "execution_count": 31,
   "id": "b9c025df-002b-4393-85bf-f65db59a8394",
   "metadata": {},
   "outputs": [],
   "source": [
    "import tensorflow"
   ]
  },
  {
   "cell_type": "code",
   "execution_count": 12,
   "id": "0614f9a2-b9d8-4552-a370-0e4b6a6c2661",
   "metadata": {},
   "outputs": [],
   "source": [
    "# Different ways to create strings\n",
    "single_quoted = 'Hello, World!'\n",
    "double_quoted = \"Python Programming\"\n",
    "multi_line = '''This is a\n",
    "multi-line string\n",
    "in Python'''\n"
   ]
  },
  {
   "cell_type": "code",
   "execution_count": 13,
   "id": "d7919447-a95e-492c-a7bf-295948368099",
   "metadata": {},
   "outputs": [
    {
     "name": "stdout",
     "output_type": "stream",
     "text": [
      "Hello, World!\n",
      "Python Programming\n",
      "This is a\n",
      "multi-line string\n",
      "in Python\n"
     ]
    }
   ],
   "source": [
    "# Basic string operations\n",
    "print(single_quoted)\n",
    "print(double_quoted)\n",
    "print(multi_line)"
   ]
  },
  {
   "cell_type": "code",
   "execution_count": 14,
   "id": "0a35d95c-1078-4cd7-897d-39f3e7dd68fd",
   "metadata": {},
   "outputs": [
    {
     "name": "stdout",
     "output_type": "stream",
     "text": [
      "Length of 'Hello, World!': 13\n"
     ]
    }
   ],
   "source": [
    "# String length\n",
    "print(f\"Length of 'Hello, World!': {len(single_quoted)}\")\n"
   ]
  },
  {
   "cell_type": "code",
   "execution_count": 15,
   "id": "ac24c01b-1b02-429c-9e1b-52657927d6c8",
   "metadata": {},
   "outputs": [
    {
     "name": "stdout",
     "output_type": "stream",
     "text": [
      "First character: H\n",
      "Last character: !\n"
     ]
    }
   ],
   "source": [
    "# String indexing (accessing characters)\n",
    "print(f\"First character: {single_quoted[0]}\")\n",
    "print(f\"Last character: {single_quoted[-1]}\")"
   ]
  },
  {
   "cell_type": "code",
   "execution_count": 16,
   "id": "dec56ecd-c59a-4007-972e-b1128e2946c4",
   "metadata": {},
   "outputs": [
    {
     "name": "stdout",
     "output_type": "stream",
     "text": [
      "Substring (2-7): llo, \n",
      "Every second character: Hlo ol!\n",
      "Reverse string: !dlroW ,olleH\n"
     ]
    }
   ],
   "source": [
    "# String slicing\n",
    "print(f\"Substring (2-7): {single_quoted[2:7]}\")\n",
    "print(f\"Every second character: {single_quoted[::2]}\")\n",
    "print(f\"Reverse string: {single_quoted[::-1]}\")"
   ]
  },
  {
   "cell_type": "code",
   "execution_count": 17,
   "id": "48787a22-35e0-45b2-85bd-e8dd20bf4d6a",
   "metadata": {},
   "outputs": [
    {
     "name": "stdout",
     "output_type": "stream",
     "text": [
      "Hello, Python!\n"
     ]
    }
   ],
   "source": [
    "# String concatenation\n",
    "greeting = \"Hello\"\n",
    "name = \"Python\"\n",
    "message = greeting + \", \" + name + \"!\"\n",
    "print(message)"
   ]
  },
  {
   "cell_type": "code",
   "execution_count": 18,
   "id": "7e4399c2-9885-4ef2-80ae-2a98c23e7c43",
   "metadata": {},
   "outputs": [
    {
     "name": "stdout",
     "output_type": "stream",
     "text": [
      "Uppercase: PYTHON PROGRAMMING\n",
      "Capitalize: Python programming\n",
      "Replace: awesome python programming\n",
      "Split: ['python', 'programming']\n",
      "Count 'p': 2\n",
      "Find 'gram': 10\n"
     ]
    }
   ],
   "source": [
    "# String methods\n",
    "text = \"python programming\"\n",
    "print(f\"Uppercase: {text.upper()}\")\n",
    "print(f\"Capitalize: {text.capitalize()}\")\n",
    "print(f\"Replace: {text.replace('python', 'awesome python')}\")\n",
    "print(f\"Split: {text.split()}\")\n",
    "print(f\"Count 'p': {text.count('p')}\")\n",
    "print(f\"Find 'gram': {text.find('gram')}\")"
   ]
  },
  {
   "cell_type": "code",
   "execution_count": 25,
   "id": "347b4210-6e29-4b8b-a35d-d9b1432decbd",
   "metadata": {},
   "outputs": [
    {
     "name": "stdout",
     "output_type": "stream",
     "text": [
      "Alice is 30 years old\n",
      "Alice is 30 years old\n",
      "Alice is 30 years old\n"
     ]
    }
   ],
   "source": [
    "# String formatting\n",
    "name = \"Alice\"\n",
    "age = 30\n",
    "# Using f-strings (Python 3.6+)\n",
    "print(f\"{name} is {age} years old\")\n",
    "# Using format() method\n",
    "print(\"{} is {} years old\".format(name, age))\n",
    "# Using % operator\n",
    "print(\"%s is %d years old\" % (name, age))"
   ]
  },
  {
   "cell_type": "code",
   "execution_count": 26,
   "id": "15bb75ed-c508-40f9-9300-99d753ff82a6",
   "metadata": {},
   "outputs": [
    {
     "name": "stdout",
     "output_type": "stream",
     "text": [
      "Is alphabetic? True\n",
      "Is numeric? True\n",
      "Is alphanumeric? True\n",
      "Starts with 'py'? False\n",
      "Ends with 'ing'? False\n"
     ]
    }
   ],
   "source": [
    "# String checking methods\n",
    "print(f\"Is alphabetic? {'abc'.isalpha()}\")\n",
    "print(f\"Is numeric? {'123'.isnumeric()}\")\n",
    "print(f\"Is alphanumeric? {'abc123'.isalnum()}\")\n",
    "print(f\"Starts with 'py'? {text.startswith('py')}\")\n",
    "print(f\"Ends with 'ing'? {text.endswith('ing')}\")"
   ]
  },
  {
   "cell_type": "code",
   "execution_count": 30,
   "id": "9a09a0c475668fbf",
   "metadata": {},
   "outputs": [
    {
     "name": "stdout",
     "output_type": "stream",
     "text": [
      "Starts with 'py'? True\n",
      "Ends with 'ing'? True\n",
      "python programming\n"
     ]
    }
   ],
   "source": [
    "text='python programming'\n",
    "\n",
    "print(f\"Starts with 'py'? {text.startswith('py')}\")\n",
    "print(f\"Ends with 'ing'? {text.endswith('ing')}\")\n",
    "print(text)"
   ]
  },
  {
   "cell_type": "code",
   "execution_count": null,
   "id": "3d290c2e-2b67-4955-9e3c-ff2bf56626ea",
   "metadata": {},
   "outputs": [],
   "source": []
  },
  {
   "cell_type": "markdown",
   "id": "5343fe1e-0e73-4677-b28c-dca3b83b30e8",
   "metadata": {},
   "source": [
    "\n",
    "## Useful Python Packages for String Manipulation\n",
    "\n",
    "When working with strings in more advanced ways, these packages can be helpful:\n",
    "\n",
    "1. **re** - Regular expressions for pattern matching in strings\n",
    "2. **string** - Additional string constants and utilities\n",
    "3. **textwrap** - Functions for wrapping and filling text\n",
    "4. **difflib** - Helpers for computing string differences\n",
    "5. **unicodedata** - Unicode character database\n",
    "\n",
    "Strings are immutable in Python, which means once created, you cannot change their content. Any operation that appears to modify a string actually creates a new string.\n",
    "\n",
    "Understanding string manipulation is fundamental to Python programming as strings are used extensively in data processing, file handling, and user interactions."
   ]
  },
  {
   "cell_type": "markdown",
   "id": "9a90b1ad-d47f-4ecb-bac9-3739e5265f35",
   "metadata": {},
   "source": [
    " # Python's `re` Package (Regular Expressions)\n",
    "\n",
    "The `re` package in Python provides powerful tools for working with regular expressions, which are special sequences of characters that define search patterns. Regular expressions are extremely useful for text processing, validation, and extraction.\n",
    "\n",
    "## Basic Concepts and Examples\n"
   ]
  },
  {
   "cell_type": "code",
   "execution_count": 24,
   "id": "a719b96b-4f0f-440f-8e39-6698247d88fe",
   "metadata": {},
   "outputs": [
    {
     "name": "stdout",
     "output_type": "stream",
     "text": [
      "Found 'rain' at position: 4\n",
      "All occurrences of 'in': ['in', 'in', 'in', 'in', 'in', 'in'] (count: 6)\n",
      "Starts with 'The': True\n",
      "Split by spaces (max 3): ['The', 'rain', 'in', 'Spain falls mainly in the plain.']\n",
      "After replacement: The rain in France falls mainly in the plain.\n",
      "Phone numbers found: ['555-123-4567']\n",
      "Vowels found: ['e', 'a', 'i', 'i', 'a', 'i', 'a', 'a', 'i', 'i', 'e', 'a', 'i'] (count: 13)\n",
      "Words with 4+ characters: ['rain', 'Spain', 'falls', 'mainly', 'plain']\n",
      "Email parts (username, domain, TLD): [('info', 'example', 'com'), ('support', 'company', 'org')]\n",
      "Username: info, Domain: example, TLD: com\n",
      "Username: support, Domain: company, TLD: org\n",
      "Greedy match: ['First content</div><div>Second content']\n",
      "Non-greedy match: ['First content', 'Second content']\n",
      "Case-insensitive matches: ['line', 'line', 'LINE']\n",
      "Lines ending with 'line': ['First line', 'SECOND line']\n",
      "Three-letter words: ['The', 'the']\n",
      "Dollar symbols: ['$', '$']\n",
      "Dollar amounts: ['10', '30']\n"
     ]
    }
   ],
   "source": [
    "import re\n",
    "\n",
    "# Basic pattern matching\n",
    "text = \"The rain in Spain falls mainly in the plain.\"\n",
    "\n",
    "# Simple search\n",
    "match = re.search(r\"rain\", text)\n",
    "print(f\"Found 'rain' at position: {match.start() if match else 'Not found'}\")\n",
    "\n",
    "# Find all occurrences\n",
    "all_matches = re.findall(r\"in\", text)\n",
    "print(f\"All occurrences of 'in': {all_matches} (count: {len(all_matches)})\")\n",
    "\n",
    "# Match at beginning of string\n",
    "starts_with = re.match(r\"The\", text)\n",
    "print(f\"Starts with 'The': {bool(starts_with)}\")\n",
    "\n",
    "# Split string by pattern\n",
    "split_text = re.split(r\" \", text, maxsplit=3)\n",
    "print(f\"Split by spaces (max 3): {split_text}\")\n",
    "\n",
    "# Replace pattern\n",
    "replaced = re.sub(r\"Spain\", \"France\", text)\n",
    "print(f\"After replacement: {replaced}\")\n",
    "\n",
    "# Using special characters and metacharacters\n",
    "# \\d - digit, \\w - word character, \\s - whitespace\n",
    "phone_number = \"Call me at 555-123-4567 or (555) 987-6543\"\n",
    "numbers = re.findall(r\"\\d{3}-\\d{3}-\\d{4}\", phone_number)\n",
    "print(f\"Phone numbers found: {numbers}\")\n",
    "\n",
    "# Character classes with []\n",
    "vowels = re.findall(r\"[aeiou]\", text.lower())\n",
    "print(f\"Vowels found: {vowels} (count: {len(vowels)})\")\n",
    "\n",
    "# Quantifiers: *, +, ?, {n}, {n,}, {n,m}\n",
    "words = re.findall(r\"\\b\\w{4,}\\b\", text)  # Words with 4+ characters\n",
    "print(f\"Words with 4+ characters: {words}\")\n",
    "\n",
    "# Groups with ()\n",
    "email_text = \"Contact us at info@example.com or support@company.org\"\n",
    "emails = re.findall(r\"(\\w+)@(\\w+)\\.(\\w+)\", email_text)\n",
    "print(f\"Email parts (username, domain, TLD): {emails}\")\n",
    "\n",
    "# Named groups\n",
    "pattern = r\"(?P<username>\\w+)@(?P<domain>\\w+)\\.(?P<tld>\\w+)\"\n",
    "for match in re.finditer(pattern, email_text):\n",
    "    print(f\"Username: {match.group('username')}, Domain: {match.group('domain')}, TLD: {match.group('tld')}\")\n",
    "\n",
    "# Greedy vs. non-greedy matching\n",
    "html = \"<div>First content</div><div>Second content</div>\"\n",
    "greedy = re.findall(r\"<div>(.*)</div>\", html)\n",
    "non_greedy = re.findall(r\"<div>(.*?)</div>\", html)\n",
    "print(f\"Greedy match: {greedy}\")\n",
    "print(f\"Non-greedy match: {non_greedy}\")\n",
    "\n",
    "# Flags\n",
    "text_multiline = \"\"\"First line\n",
    "SECOND line\n",
    "Third LINE\"\"\"\n",
    "\n",
    "# Case-insensitive search\n",
    "case_insensitive = re.findall(r\"line\", text_multiline, re.IGNORECASE)\n",
    "print(f\"Case-insensitive matches: {case_insensitive}\")\n",
    "\n",
    "# Multiline mode - ^ and $ match start/end of each line\n",
    "multiline_matches = re.findall(r\"^.*line$\", text_multiline, re.MULTILINE)\n",
    "print(f\"Lines ending with 'line': {multiline_matches}\")\n",
    "\n",
    "# Compiling patterns for reuse (more efficient)\n",
    "pattern = re.compile(r\"\\b\\w{3}\\b\")  # 3-letter words\n",
    "three_letter_words = pattern.findall(text)\n",
    "print(f\"Three-letter words: {three_letter_words}\")\n",
    "\n",
    "# Lookahead and lookbehind assertions\n",
    "text_with_prices = \"Products: $10, €20, $30\"\n",
    "# Positive lookahead: match $ only if followed by digits\n",
    "dollars = re.findall(r\"\\$(?=\\d+)\", text_with_prices)\n",
    "# Positive lookbehind: match digits only if preceded by $\n",
    "dollar_amounts = re.findall(r\"(?<=\\$)\\d+\", text_with_prices)\n",
    "print(f\"Dollar symbols: {dollars}\")\n",
    "print(f\"Dollar amounts: {dollar_amounts}\")"
   ]
  },
  {
   "cell_type": "markdown",
   "id": "31148a12-cbd6-4de3-9e33-66a39ee1235b",
   "metadata": {},
   "source": [
    "\n",
    "## Key Regular Expression Concepts:\n",
    "\n",
    "1. **Basic Functions**:\n",
    "   - `re.search()` - Find first match\n",
    "   - `re.match()` - Match at beginning of string\n",
    "   - `re.findall()` - Find all matches\n",
    "   - `re.finditer()` - Return iterator of match objects\n",
    "   - `re.sub()` - Substitute matches\n",
    "   - `re.split()` - Split string by pattern\n",
    "\n",
    "2. **Special Characters**:\n",
    "   - `.` - Any character except newline\n",
    "   - `\\d` - Digit (`[0-9]`)\n",
    "   - `\\D` - Non-digit\n",
    "   - `\\w` - Word character (`[a-zA-Z0-9_]`)\n",
    "   - `\\W` - Non-word character\n",
    "   - `\\s` - Whitespace\n",
    "   - `\\S` - Non-whitespace\n",
    "\n",
    "3. **Anchors**:\n",
    "   - `^` - Start of string/line\n",
    "   - `$` - End of string/line\n",
    "   - `\\b` - Word boundary\n",
    "\n",
    "4. **Quantifiers**:\n",
    "   - `*` - 0 or more\n",
    "   - `+` - 1 or more\n",
    "   - `?` - 0 or 1\n",
    "   - `{n}` - Exactly n\n",
    "   - `{n,}` - n or more\n",
    "   - `{n,m}` - Between n and m\n",
    "\n",
    "5. **Common Flags**:\n",
    "   - `re.IGNORECASE` or `re.I` - Case-insensitive matching\n",
    "   - `re.MULTILINE` or `re.M` - Multi-line mode\n",
    "   - `re.DOTALL` or `re.S` - Dot matches newline\n",
    "\n",
    "Regular expressions are powerful but can be complex. It's often helpful to test them in a regex tester tool when developing complex patterns. The `re` module is essential for text processing tasks like validation, extraction, and transformation of structured text data."
   ]
  }
 ],
 "metadata": {
  "kernelspec": {
   "display_name": "Python 3 (ipykernel)",
   "language": "python",
   "name": "python3"
  },
  "language_info": {
   "codemirror_mode": {
    "name": "ipython",
    "version": 3
   },
   "file_extension": ".py",
   "mimetype": "text/x-python",
   "name": "python",
   "nbconvert_exporter": "python",
   "pygments_lexer": "ipython3",
   "version": "3.12.7"
  }
 },
 "nbformat": 4,
 "nbformat_minor": 5
}
