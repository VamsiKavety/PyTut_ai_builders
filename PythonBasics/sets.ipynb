{
 "cells": [
  {
   "cell_type": "markdown",
   "id": "a44d9b1f-cd32-46ac-8b43-50b8832198f2",
   "metadata": {},
   "source": [
    "## Python Sets Overview\n",
    "\n",
    "Sets are unordered collections of unique elements. They're useful for:\n",
    "- Removing duplicates from sequences\n",
    "- Membership testing\n",
    "- Mathematical set operations (union, intersection, etc.)\n",
    "\n",
    "Here's a comprehensive example covering set operations:\n"
   ]
  },
  {
   "cell_type": "code",
   "execution_count": 9,
   "id": "a5e70206-13b7-4cbb-bfa9-b83339435663",
   "metadata": {},
   "outputs": [
    {
     "name": "stdout",
     "output_type": "stream",
     "text": [
      "fruits: {'apple', 'banana', 'orange'}\n",
      "numbers: {1, 2, 3, 4, 5}\n"
     ]
    }
   ],
   "source": [
    "# Creating Sets\n",
    "# There are multiple ways to create sets\n",
    "empty_set = set()  # Empty set (can't use {} as that creates an empty dictionary)\n",
    "fruits = {'apple', 'banana', 'orange', 'apple'}  # Duplicate 'apple' will be removed\n",
    "numbers = set([1, 2, 3, 4, 5])  # Creating from a list\n",
    "print(f\"fruits: {fruits}\")\n",
    "print(f\"numbers: {numbers}\")"
   ]
  },
  {
   "cell_type": "markdown",
   "id": "68700a96-a1c6-4076-a852-b8b73ddfc82a",
   "metadata": {},
   "source": [
    "# Creating Sets\n",
    "\n",
    "This code demonstrates different ways to create sets in Python:\n",
    "\n",
    "1. `empty_set = set()` - Creates an empty set using the `set()` function. The comment notes you can't use `{}` for empty sets as that syntax creates empty dictionaries.\n",
    "\n",
    "2. `fruits = {'apple', 'banana', 'orange', 'apple'}` - Creates a set using curly braces with string elements. Since sets only store unique values, the duplicate 'apple' will be automatically removed.\n",
    "\n",
    "3. `numbers = set([1, 2, 3, 4, 5])` - Creates a set by converting a list to a set using the `set()` function.\n",
    "\n",
    "4. The last two lines print the contents of both sets using f-strings to show the results, demonstrating that sets maintain unique values and have no specific order."
   ]
  },
  {
   "cell_type": "code",
   "execution_count": 14,
   "id": "46b8f74d-c4e7-44e2-bc17-648ea1d03ace",
   "metadata": {},
   "outputs": [
    {
     "name": "stdout",
     "output_type": "stream",
     "text": [
      "Before adding: {'mango', 'banana', 'orange', 'pineapple', 'grape'}\n",
      "After adding: {'mango', 'banana', 'orange', 'pineapple', 'grape'}\n",
      "After Updating: {'mango', 'banana', 'orange', 'pineapple', 'grape'}\n"
     ]
    }
   ],
   "source": [
    "# Cell 2: Basic Set Operations\n",
    "# Adding elements\n",
    "print(f\"Before adding: {fruits}\")\n",
    "fruits.add('grape')\n",
    "print(f\"After adding: {fruits}\")\n",
    "fruits.update(['mango', 'pineapple'])\n",
    "print(f\"After Updating: {fruits}\")"
   ]
  },
  {
   "cell_type": "code",
   "execution_count": 19,
   "id": "164aa4e5-f23f-4ac4-9135-220e03baa5c4",
   "metadata": {},
   "outputs": [
    {
     "name": "stdout",
     "output_type": "stream",
     "text": [
      "Fruit Set: {'apple', 'banana', 'orange'}\n",
      "After removing apple: {'banana', 'orange'}\n",
      "After discard Kiwi: {'banana', 'orange'}\n",
      "Popped element: banana\n"
     ]
    }
   ],
   "source": [
    "# Removing elements\n",
    "fruits = {'apple', 'banana', 'orange', 'apple'} \n",
    "print(f\"Fruit Set: {fruits}\")\n",
    "fruits.remove('apple')  # Raises KeyError if not found\n",
    "print(f\"After removing apple: {fruits}\")\n",
    "\n",
    "fruits.discard('kiwi')  # No error if not found\n",
    "print(f\"After discard Kiwi: {fruits}\")\n",
    "\n",
    "popped = fruits.pop()  # Removes and returns an arbitrary element\n",
    "print(f\"Popped element: {popped}\")"
   ]
  },
  {
   "cell_type": "code",
   "execution_count": null,
   "id": "72e40592-714e-4245-a381-8c214025d31d",
   "metadata": {},
   "outputs": [],
   "source": [
    "# Cell 3: Set Membership\n",
    "print('banana' in fruits)  # True\n",
    "print('kiwi' in fruits)    # False"
   ]
  },
  {
   "cell_type": "code",
   "execution_count": null,
   "id": "ec3f5330-ad0b-452d-9551-0f5648d0a543",
   "metadata": {},
   "outputs": [],
   "source": [
    "# Cell 4: Set Methods and Operations\n",
    "set1 = {1, 2, 3, 4, 5}\n",
    "set2 = {4, 5, 6, 7, 8}\n"
   ]
  },
  {
   "cell_type": "code",
   "execution_count": 20,
   "id": "cac426e5-dacb-4783-87f2-30fcc217ab6f",
   "metadata": {},
   "outputs": [
    {
     "name": "stdout",
     "output_type": "stream",
     "text": [
      "Union: {1, 2, 3, 4, 5, 6, 7, 8}\n"
     ]
    }
   ],
   "source": [
    "# Union (all elements from both sets)\n",
    "union_set = set1.union(set2)  # or set1 | set2\n",
    "print(f\"Union: {union_set}\")"
   ]
  },
  {
   "cell_type": "code",
   "execution_count": 21,
   "id": "6b976768-365f-42ef-9a88-590f880f0d53",
   "metadata": {},
   "outputs": [
    {
     "name": "stdout",
     "output_type": "stream",
     "text": [
      "Intersection: {4, 5}\n"
     ]
    }
   ],
   "source": [
    "# Intersection (elements common to both sets)\n",
    "intersection_set = set1.intersection(set2)  # or set1 & set2\n",
    "print(f\"Intersection: {intersection_set}\")"
   ]
  },
  {
   "cell_type": "code",
   "execution_count": 22,
   "id": "ea0dc997-d647-4b3c-a863-d8ac73a6d3c0",
   "metadata": {},
   "outputs": [
    {
     "name": "stdout",
     "output_type": "stream",
     "text": [
      "Difference (set1 - set2): {1, 2, 3}\n"
     ]
    }
   ],
   "source": [
    "# Difference (elements in set1 but not in set2)\n",
    "difference_set = set1.difference(set2)  # or set1 - set2\n",
    "print(f\"Difference (set1 - set2): {difference_set}\")"
   ]
  },
  {
   "cell_type": "code",
   "execution_count": 23,
   "id": "e5e26d98-5bb1-4b4e-8212-f39d74b84214",
   "metadata": {},
   "outputs": [
    {
     "name": "stdout",
     "output_type": "stream",
     "text": [
      "Symmetric difference: {1, 2, 3, 6, 7, 8}\n"
     ]
    }
   ],
   "source": [
    "# Symmetric difference (elements in either set, but not in both)\n",
    "symmetric_difference = set1.symmetric_difference(set2)  # or set1 ^ set2\n",
    "print(f\"Symmetric difference: {symmetric_difference}\")"
   ]
  },
  {
   "cell_type": "code",
   "execution_count": 24,
   "id": "b4bd22ce-8e04-4f89-a078-7aff252ca81b",
   "metadata": {},
   "outputs": [
    {
     "name": "stdout",
     "output_type": "stream",
     "text": [
      "Squares: {0, 1, 64, 4, 36, 9, 16, 49, 81, 25}\n"
     ]
    }
   ],
   "source": [
    "# Cell 5: Set Comprehensions\n",
    "# Creating sets using set comprehensions\n",
    "squares = {x**2 for x in range(10)}\n",
    "print(f\"Squares: {squares}\")"
   ]
  },
  {
   "cell_type": "code",
   "execution_count": 27,
   "id": "b1238744-5dc5-4ffb-83a2-eeef744f5a85",
   "metadata": {},
   "outputs": [
    {
     "name": "stdout",
     "output_type": "stream",
     "text": [
      "Frozen set: frozenset({'c', 'a', 'b'})\n"
     ]
    }
   ],
   "source": [
    "# Cell 6: Frozen Sets (Immutable sets)\n",
    "frozen = frozenset(['a', 'b', 'c'])\n",
    "print(f\"Frozen set: {frozen}\")\n",
    "#frozen.add('d')  # This would raise an AttributeError"
   ]
  },
  {
   "cell_type": "code",
   "execution_count": 28,
   "id": "f34c931c-4f60-4d44-aa8a-a1c5836f1b95",
   "metadata": {},
   "outputs": [
    {
     "name": "stdout",
     "output_type": "stream",
     "text": [
      "Unique words: {'is', 'be', 'question', 'not', 'the', 'to', 'or', 'that'}\n",
      "Word count: 10\n",
      "Unique word count: 8\n"
     ]
    }
   ],
   "source": [
    "# Cell 7: Practical Example - Finding Unique Words\n",
    "text = \"to be or not to be that is the question\"\n",
    "unique_words = set(text.split())\n",
    "print(f\"Unique words: {unique_words}\")\n",
    "print(f\"Word count: {len(text.split())}\")\n",
    "print(f\"Unique word count: {len(unique_words)}\")"
   ]
  },
  {
   "cell_type": "markdown",
   "id": "ae2957c9-c0c1-4bcf-b3fe-ce41d8f765ec",
   "metadata": {},
   "source": [
    "\n",
    "## Additional Python Packages for Advanced Set Operations\n",
    "\n",
    "If you need more advanced set operations, consider these packages:\n",
    "\n",
    "1. **collections** - Provides Counter and defaultdict which can be used with sets\n",
    "2. **itertools** - Useful for creating combinations and permutations\n",
    "3. **sympy** - For symbolic mathematics including advanced set theory\n",
    "4. **pandas** - For data manipulation with Series and DataFrame objects that support set-like operations\n",
    "\n",
    "Remember that sets are optimized for fast membership testing, which makes them excellent for removing duplicates and testing if an item exists in a collection."
   ]
  },
  {
   "cell_type": "code",
   "execution_count": null,
   "id": "928d21134a8f7d92",
   "metadata": {},
   "outputs": [],
   "source": []
  }
 ],
 "metadata": {
  "kernelspec": {
   "display_name": "Python 3 (ipykernel)",
   "language": "python",
   "name": "python3"
  },
  "language_info": {
   "codemirror_mode": {
    "name": "ipython",
    "version": 3
   },
   "file_extension": ".py",
   "mimetype": "text/x-python",
   "name": "python",
   "nbconvert_exporter": "python",
   "pygments_lexer": "ipython3",
   "version": "3.12.7"
  }
 },
 "nbformat": 4,
 "nbformat_minor": 5
}
