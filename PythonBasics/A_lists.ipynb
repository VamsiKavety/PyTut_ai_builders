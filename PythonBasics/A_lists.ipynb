{
 "cells": [
  {
   "cell_type": "markdown",
   "id": "f214378c-6d2b-4dd5-bfcf-9f2f3deb9606",
   "metadata": {},
   "source": [
    "# Teaching Python Lists with Examples\n",
    "\n",
    "Lists are one of the most versatile and commonly used data structures in Python. They allow you to store multiple items in a single variable.\n",
    "\n",
    "## Basic List Concepts\n",
    "\n",
    "A list in Python is:\n",
    "- An ordered collection of items\n",
    "- Mutable (can be changed after creation)\n",
    "- Able to contain items of different data types\n",
    "- Created using square brackets `[]`\n",
    "\n",
    "Let's explore lists with examples:\n"
   ]
  },
  {
   "cell_type": "markdown",
   "id": "f2afee6a-f117-47fa-a831-fbb09d165b08",
   "metadata": {},
   "source": [
    "\n",
    "## Useful Python Packages for Working with Lists\n",
    "\n",
    "When working with lists, these packages can be helpful:\n",
    "\n",
    "1. **NumPy** - For numerical operations on lists/arrays\n",
    "2. **Pandas** - For data manipulation with DataFrame objects\n",
    "3. **Collections** - For specialized container datatypes\n",
    "4. **Itertools** - For efficient looping and combinations\n",
    "5. **Random** - For random sampling and shuffling lists\n",
    "\n",
    "Lists are fundamental to Python programming and mastering them will help you with many programming tasks!"
   ]
  },
  {
   "cell_type": "code",
   "id": "09ca70df-09e4-42a9-8848-0efed5bff2c4",
   "metadata": {
    "ExecuteTime": {
     "end_time": "2025-06-10T04:33:39.520594Z",
     "start_time": "2025-06-10T04:33:39.514236Z"
    }
   },
   "source": [
    "# Creating lists\n",
    "empty_list = []\n",
    "numbers = [1, 2, 3, 4, 5]\n",
    "mixed_list = [1, \"Hello\", 3.14, True]\n",
    "nested_list = [1, [2, 3], [4, 5, 6]]"
   ],
   "outputs": [],
   "execution_count": 2
  },
  {
   "cell_type": "code",
   "execution_count": 6,
   "id": "3e00deb1-c609-40bf-bbcf-9e9b89406b34",
   "metadata": {
    "ExecuteTime": {
     "end_time": "2025-06-09T04:17:19.564754Z",
     "start_time": "2025-06-09T04:17:19.561014Z"
    }
   },
   "outputs": [
    {
     "name": "stdout",
     "output_type": "stream",
     "text": [
      "1\n",
      "5\n"
     ]
    }
   ],
   "source": [
    "# Accessing list elements (indexing starts at 0)\n",
    "print(numbers[0])  # Output: 1\n",
    "print(numbers[-1])  # Output: 5 (negative indexing starts from the end)"
   ]
  },
  {
   "cell_type": "code",
   "execution_count": 7,
   "id": "406c687a-4bce-40ed-a2e1-92bee2b52838",
   "metadata": {
    "ExecuteTime": {
     "end_time": "2025-06-09T04:17:19.619789Z",
     "start_time": "2025-06-09T04:17:19.601546Z"
    }
   },
   "outputs": [
    {
     "name": "stdout",
     "output_type": "stream",
     "text": [
      "[2, 3, 4]\n",
      "[1, 2, 3]\n",
      "[3, 4, 5]\n"
     ]
    }
   ],
   "source": [
    "# Slicing lists\n",
    "print(numbers[1:4])  # Output: [2, 3, 4]\n",
    "print(numbers[:3])   # Output: [1, 2, 3]\n",
    "print(numbers[2:])   # Output: [3, 4, 5]"
   ]
  },
  {
   "cell_type": "code",
   "execution_count": 8,
   "id": "e9a53fd7-5bc7-44cc-b9c0-71fbee05aa8c",
   "metadata": {
    "ExecuteTime": {
     "end_time": "2025-06-09T04:17:20.429860Z",
     "start_time": "2025-06-09T04:17:20.417642Z"
    }
   },
   "outputs": [
    {
     "name": "stdout",
     "output_type": "stream",
     "text": [
      "[10, 2, 3, 4, 5]\n"
     ]
    }
   ],
   "source": [
    "# Modifying lists\n",
    "numbers[0] = 10      # Change first element\n",
    "print(numbers)       # Output: [10, 2, 3, 4, 5]\n"
   ]
  },
  {
   "cell_type": "code",
   "execution_count": 9,
   "id": "5ac6070f-583c-41b5-afcc-e470fdb9dc16",
   "metadata": {
    "ExecuteTime": {
     "end_time": "2025-06-09T04:17:20.505794Z",
     "start_time": "2025-06-09T04:17:20.477725Z"
    }
   },
   "outputs": [
    {
     "name": "stdout",
     "output_type": "stream",
     "text": [
      "[10, 2, 3, 4, 5, 6]\n",
      "[10, 15, 2, 3, 4, 5, 6]\n",
      "[10, 15, 2, 4, 5, 6]\n",
      "6\n",
      "[10, 15, 2, 4, 5]\n"
     ]
    }
   ],
   "source": [
    "# List methods\n",
    "numbers.append(6)    # Add element to end\n",
    "print(numbers)       # Output: [10, 2, 3, 4, 5, 6]\n",
    "\n",
    "numbers.insert(1, 15)  # Insert at specific position\n",
    "print(numbers)       # Output: [10, 15, 2, 3, 4, 5, 6]\n",
    "\n",
    "numbers.remove(3)    # Remove specific value\n",
    "print(numbers)       # Output: [10, 15, 2, 4, 5, 6]\n",
    "\n",
    "popped = numbers.pop()  # Remove and return last element\n",
    "print(popped)        # Output: 6\n",
    "print(numbers)       # Output: [10, 15, 2, 4, 5]"
   ]
  },
  {
   "cell_type": "code",
   "execution_count": 1,
   "id": "034e04f8-87b4-4d09-856f-4dfbfef52f5b",
   "metadata": {
    "ExecuteTime": {
     "end_time": "2025-06-09T04:17:20.536137Z",
     "start_time": "2025-06-09T04:17:20.531021Z"
    }
   },
   "outputs": [
    {
     "name": "stdout",
     "output_type": "stream",
     "text": [
      "[1, 2, 3, 4, 5, 6]\n",
      "[1, 2, 3, 1, 2, 3, 1, 2, 3]\n"
     ]
    }
   ],
   "source": [
    "# List operations\n",
    "list1 = [1, 2, 3]\n",
    "list2 = [4, 5, 6]\n",
    "combined = list1 + list2  # Concatenation\n",
    "print(combined)      # Output: [1, 2, 3, 4, 5, 6]\n",
    "\n",
    "repeated = list1 * 3  # Repetition\n",
    "print(repeated)      # Output: [1, 2, 3, 1, 2, 3, 1, 2, 3]"
   ]
  },
  {
   "cell_type": "code",
   "execution_count": 2,
   "id": "a6c2172b-5f36-4731-83bc-3af1e3519f9a",
   "metadata": {
    "ExecuteTime": {
     "end_time": "2025-06-09T04:17:20.626588Z",
     "start_time": "2025-06-09T04:17:20.580428Z"
    }
   },
   "outputs": [
    {
     "name": "stdout",
     "output_type": "stream",
     "text": [
      "[1, 4, 9, 16, 25]\n"
     ]
    },
    {
     "data": {
      "text/plain": [
       "[1, 4, 9, 16, 25]"
      ]
     },
     "execution_count": 2,
     "metadata": {},
     "output_type": "execute_result"
    }
   ],
   "source": [
    "# List comprehensions (powerful way to create lists)\n",
    "squares = [x**2 for x in range(1, 6)]\n",
    "print(squares)       # Output: [1, 4, 9, 16, 25] \n",
    "squares"
   ]
  },
  {
   "cell_type": "code",
   "execution_count": 10,
   "id": "d9ff9e53-9485-4259-8bf0-01bb58f00167",
   "metadata": {
    "ExecuteTime": {
     "end_time": "2025-06-09T04:17:20.650706Z",
     "start_time": "2025-06-09T04:17:20.646265Z"
    }
   },
   "outputs": [
    {
     "name": "stdout",
     "output_type": "stream",
     "text": [
      "5\n",
      "15\n",
      "2\n",
      "36\n"
     ]
    }
   ],
   "source": [
    "# Common list functions\n",
    "print(len(numbers))  # Length: 5\n",
    "print(max(numbers))  # Maximum value: 15\n",
    "print(min(numbers))  # Minimum value: 2\n",
    "print(sum(numbers))  # Sum of all elements: 36"
   ]
  },
  {
   "cell_type": "code",
   "execution_count": 15,
   "id": "920e066a5f3a4a97",
   "metadata": {
    "ExecuteTime": {
     "end_time": "2025-06-09T04:17:20.690183Z",
     "start_time": "2025-06-09T04:17:20.684116Z"
    }
   },
   "outputs": [
    {
     "ename": "TypeError",
     "evalue": "'>' not supported between instances of 'str' and 'int'",
     "output_type": "error",
     "traceback": [
      "\u001B[1;31m---------------------------------------------------------------------------\u001B[0m",
      "\u001B[1;31mTypeError\u001B[0m                                 Traceback (most recent call last)",
      "Cell \u001B[1;32mIn[15], line 4\u001B[0m\n\u001B[0;32m      2\u001B[0m numbers\u001B[38;5;241m.\u001B[39mappend(\u001B[38;5;124m'\u001B[39m\u001B[38;5;124mA\u001B[39m\u001B[38;5;124m'\u001B[39m)\n\u001B[0;32m      3\u001B[0m numbers\n\u001B[1;32m----> 4\u001B[0m \u001B[38;5;28mprint\u001B[39m(\u001B[38;5;28mmax\u001B[39m(numbers))\n",
      "\u001B[1;31mTypeError\u001B[0m: '>' not supported between instances of 'str' and 'int'"
     ]
    }
   ],
   "source": [
    "numbers\n",
    "numbers.append('A')\n",
    "numbers\n",
    "print(max(numbers)) "
   ]
  },
  {
   "cell_type": "code",
   "execution_count": null,
   "id": "f5fe9ced-1105-4da6-8345-3f2234ca0db1",
   "metadata": {},
   "outputs": [],
   "source": []
  }
 ],
 "metadata": {
  "kernelspec": {
   "display_name": "Python 3 (ipykernel)",
   "language": "python",
   "name": "python3"
  },
  "language_info": {
   "codemirror_mode": {
    "name": "ipython",
    "version": 3
   },
   "file_extension": ".py",
   "mimetype": "text/x-python",
   "name": "python",
   "nbconvert_exporter": "python",
   "pygments_lexer": "ipython3",
   "version": "3.12.7"
  }
 },
 "nbformat": 4,
 "nbformat_minor": 5
}
