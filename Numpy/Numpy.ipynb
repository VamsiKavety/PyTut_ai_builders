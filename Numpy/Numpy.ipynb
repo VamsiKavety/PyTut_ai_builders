{
 "cells": [
  {
   "cell_type": "code",
   "id": "initial_id",
   "metadata": {
    "collapsed": true,
    "ExecuteTime": {
     "end_time": "2025-06-11T16:35:24.728664Z",
     "start_time": "2025-06-11T16:35:24.719032Z"
    }
   },
   "source": [
    "l= [10,20,30]\n",
    "print(l)\n",
    "type(l)"
   ],
   "outputs": [
    {
     "name": "stdout",
     "output_type": "stream",
     "text": [
      "[10, 20, 30]\n"
     ]
    },
    {
     "data": {
      "text/plain": [
       "list"
      ]
     },
     "execution_count": 1,
     "metadata": {},
     "output_type": "execute_result"
    }
   ],
   "execution_count": 1
  },
  {
   "metadata": {
    "ExecuteTime": {
     "end_time": "2025-06-11T16:38:27.568578Z",
     "start_time": "2025-06-11T16:38:27.561792Z"
    }
   },
   "cell_type": "code",
   "source": [
    "import numpy as np\n",
    "a = np.array(l)\n",
    "type(a)"
   ],
   "id": "49d1cf51e65a1b09",
   "outputs": [
    {
     "data": {
      "text/plain": [
       "numpy.ndarray"
      ]
     },
     "execution_count": 9,
     "metadata": {},
     "output_type": "execute_result"
    }
   ],
   "execution_count": 9
  },
  {
   "metadata": {
    "ExecuteTime": {
     "end_time": "2025-06-11T16:39:59.302237Z",
     "start_time": "2025-06-11T16:39:59.294293Z"
    }
   },
   "cell_type": "code",
   "source": [
    "print(a)\n",
    "a.ndim"
   ],
   "id": "276ee6db403aa59e",
   "outputs": [
    {
     "name": "stdout",
     "output_type": "stream",
     "text": [
      "[10 20 30]\n"
     ]
    },
    {
     "data": {
      "text/plain": [
       "1"
      ]
     },
     "execution_count": 15,
     "metadata": {},
     "output_type": "execute_result"
    }
   ],
   "execution_count": 15
  },
  {
   "metadata": {
    "ExecuteTime": {
     "end_time": "2025-06-11T16:41:17.866681Z",
     "start_time": "2025-06-11T16:41:17.860015Z"
    }
   },
   "cell_type": "code",
   "source": [
    "b= np.array([[10, 20, 30],\n",
    "[40, 50, 60],\n",
    "[70, 80, 90]])\n",
    "b"
   ],
   "id": "dc44e0115d833dc4",
   "outputs": [
    {
     "data": {
      "text/plain": [
       "array([[10, 20, 30],\n",
       "       [40, 50, 60],\n",
       "       [70, 80, 90]])"
      ]
     },
     "execution_count": 18,
     "metadata": {},
     "output_type": "execute_result"
    }
   ],
   "execution_count": 18
  },
  {
   "metadata": {
    "ExecuteTime": {
     "end_time": "2025-06-11T16:42:18.382077Z",
     "start_time": "2025-06-11T16:42:18.376279Z"
    }
   },
   "cell_type": "code",
   "source": [
    "b.shape\n",
    "b.size"
   ],
   "id": "9ef92397eb147394",
   "outputs": [
    {
     "data": {
      "text/plain": [
       "9"
      ]
     },
     "execution_count": 23,
     "metadata": {},
     "output_type": "execute_result"
    }
   ],
   "execution_count": 23
  },
  {
   "metadata": {},
   "cell_type": "code",
   "outputs": [],
   "execution_count": null,
   "source": "",
   "id": "ea411c1d2bb2c93"
  }
 ],
 "metadata": {
  "kernelspec": {
   "display_name": "Python 3",
   "language": "python",
   "name": "python3"
  },
  "language_info": {
   "codemirror_mode": {
    "name": "ipython",
    "version": 2
   },
   "file_extension": ".py",
   "mimetype": "text/x-python",
   "name": "python",
   "nbconvert_exporter": "python",
   "pygments_lexer": "ipython2",
   "version": "2.7.6"
  }
 },
 "nbformat": 4,
 "nbformat_minor": 5
}
